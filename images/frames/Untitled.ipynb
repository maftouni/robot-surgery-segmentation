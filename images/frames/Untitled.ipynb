{
 "cells": [
  {
   "cell_type": "code",
   "execution_count": 14,
   "metadata": {},
   "outputs": [
    {
     "name": "stdout",
     "output_type": "stream",
     "text": [
      "saving 1.jpg (full) frame 0, (854, 480) []\n"
     ]
    },
    {
     "ename": "ValueError",
     "evalue": "illegal image mode",
     "output_type": "error",
     "traceback": [
      "\u001b[0;31m---------------------------------------------------------------------------\u001b[0m",
      "\u001b[0;31mValueError\u001b[0m                                Traceback (most recent call last)",
      "\u001b[0;32m<ipython-input-14-e58db4d0caeb>\u001b[0m in \u001b[0;36m<module>\u001b[0;34m\u001b[0m\n\u001b[1;32m     97\u001b[0m \u001b[0;34m\u001b[0m\u001b[0m\n\u001b[1;32m     98\u001b[0m \u001b[0;32mif\u001b[0m \u001b[0m__name__\u001b[0m \u001b[0;34m==\u001b[0m \u001b[0;34m\"__main__\"\u001b[0m\u001b[0;34m:\u001b[0m\u001b[0;34m\u001b[0m\u001b[0;34m\u001b[0m\u001b[0m\n\u001b[0;32m---> 99\u001b[0;31m     \u001b[0mmain\u001b[0m\u001b[0;34m(\u001b[0m\u001b[0;34m)\u001b[0m\u001b[0;34m\u001b[0m\u001b[0;34m\u001b[0m\u001b[0m\n\u001b[0m\u001b[1;32m    100\u001b[0m \u001b[0;34m\u001b[0m\u001b[0m\n\u001b[1;32m    101\u001b[0m \u001b[0;34m\u001b[0m\u001b[0m\n",
      "\u001b[0;32m<ipython-input-14-e58db4d0caeb>\u001b[0m in \u001b[0;36mmain\u001b[0;34m()\u001b[0m\n\u001b[1;32m     92\u001b[0m \u001b[0;34m\u001b[0m\u001b[0m\n\u001b[1;32m     93\u001b[0m \u001b[0;32mdef\u001b[0m \u001b[0mmain\u001b[0m\u001b[0;34m(\u001b[0m\u001b[0;34m)\u001b[0m\u001b[0;34m:\u001b[0m\u001b[0;34m\u001b[0m\u001b[0;34m\u001b[0m\u001b[0m\n\u001b[0;32m---> 94\u001b[0;31m     \u001b[0mprocessImage\u001b[0m\u001b[0;34m(\u001b[0m\u001b[0;34m\"1.jpg\"\u001b[0m\u001b[0;34m)\u001b[0m\u001b[0;34m\u001b[0m\u001b[0;34m\u001b[0m\u001b[0m\n\u001b[0m\u001b[1;32m     95\u001b[0m     \u001b[0;31m#processImage('bar.gif')\u001b[0m\u001b[0;34m\u001b[0m\u001b[0;34m\u001b[0m\u001b[0;34m\u001b[0m\u001b[0m\n\u001b[1;32m     96\u001b[0m \u001b[0;34m\u001b[0m\u001b[0m\n",
      "\u001b[0;32m<ipython-input-14-e58db4d0caeb>\u001b[0m in \u001b[0;36mprocessImage\u001b[0;34m(path)\u001b[0m\n\u001b[1;32m     70\u001b[0m             '''\n\u001b[1;32m     71\u001b[0m             \u001b[0;32mif\u001b[0m \u001b[0;32mnot\u001b[0m \u001b[0mim\u001b[0m\u001b[0;34m.\u001b[0m\u001b[0mgetpalette\u001b[0m\u001b[0;34m(\u001b[0m\u001b[0;34m)\u001b[0m\u001b[0;34m:\u001b[0m\u001b[0;34m\u001b[0m\u001b[0;34m\u001b[0m\u001b[0m\n\u001b[0;32m---> 72\u001b[0;31m                 \u001b[0mim\u001b[0m\u001b[0;34m.\u001b[0m\u001b[0mputpalette\u001b[0m\u001b[0;34m(\u001b[0m\u001b[0mp\u001b[0m\u001b[0;34m)\u001b[0m\u001b[0;34m\u001b[0m\u001b[0;34m\u001b[0m\u001b[0m\n\u001b[0m\u001b[1;32m     73\u001b[0m \u001b[0;34m\u001b[0m\u001b[0m\n\u001b[1;32m     74\u001b[0m             \u001b[0mnew_frame\u001b[0m \u001b[0;34m=\u001b[0m \u001b[0mImage\u001b[0m\u001b[0;34m.\u001b[0m\u001b[0mnew\u001b[0m\u001b[0;34m(\u001b[0m\u001b[0;34m'RGBA'\u001b[0m\u001b[0;34m,\u001b[0m \u001b[0;34m(\u001b[0m\u001b[0;36m256\u001b[0m\u001b[0;34m,\u001b[0m\u001b[0;36m256\u001b[0m\u001b[0;34m)\u001b[0m\u001b[0;34m)\u001b[0m\u001b[0;34m\u001b[0m\u001b[0;34m\u001b[0m\u001b[0m\n",
      "\u001b[0;32m/home/smartlab/anaconda3/lib/python3.7/site-packages/PIL/Image.py\u001b[0m in \u001b[0;36mputpalette\u001b[0;34m(self, data, rawmode)\u001b[0m\n\u001b[1;32m   1699\u001b[0m \u001b[0;34m\u001b[0m\u001b[0m\n\u001b[1;32m   1700\u001b[0m         \u001b[0;32mif\u001b[0m \u001b[0mself\u001b[0m\u001b[0;34m.\u001b[0m\u001b[0mmode\u001b[0m \u001b[0;32mnot\u001b[0m \u001b[0;32min\u001b[0m \u001b[0;34m(\u001b[0m\u001b[0;34m\"L\"\u001b[0m\u001b[0;34m,\u001b[0m \u001b[0;34m\"LA\"\u001b[0m\u001b[0;34m,\u001b[0m \u001b[0;34m\"P\"\u001b[0m\u001b[0;34m,\u001b[0m \u001b[0;34m\"PA\"\u001b[0m\u001b[0;34m)\u001b[0m\u001b[0;34m:\u001b[0m\u001b[0;34m\u001b[0m\u001b[0;34m\u001b[0m\u001b[0m\n\u001b[0;32m-> 1701\u001b[0;31m             \u001b[0;32mraise\u001b[0m \u001b[0mValueError\u001b[0m\u001b[0;34m(\u001b[0m\u001b[0;34m\"illegal image mode\"\u001b[0m\u001b[0;34m)\u001b[0m\u001b[0;34m\u001b[0m\u001b[0;34m\u001b[0m\u001b[0m\n\u001b[0m\u001b[1;32m   1702\u001b[0m         \u001b[0mself\u001b[0m\u001b[0;34m.\u001b[0m\u001b[0mload\u001b[0m\u001b[0;34m(\u001b[0m\u001b[0;34m)\u001b[0m\u001b[0;34m\u001b[0m\u001b[0;34m\u001b[0m\u001b[0m\n\u001b[1;32m   1703\u001b[0m         \u001b[0;32mif\u001b[0m \u001b[0misinstance\u001b[0m\u001b[0;34m(\u001b[0m\u001b[0mdata\u001b[0m\u001b[0;34m,\u001b[0m \u001b[0mImagePalette\u001b[0m\u001b[0;34m.\u001b[0m\u001b[0mImagePalette\u001b[0m\u001b[0;34m)\u001b[0m\u001b[0;34m:\u001b[0m\u001b[0;34m\u001b[0m\u001b[0;34m\u001b[0m\u001b[0m\n",
      "\u001b[0;31mValueError\u001b[0m: illegal image mode"
     ]
    }
   ],
   "source": [
    "import os\n",
    "from PIL import Image\n",
    "\n",
    "\n",
    "'''\n",
    "I searched high and low for solutions to the \"extract animated GIF frames in Python\"\n",
    "problem, and after much trial and error came up with the following solution based\n",
    "on several partial examples around the web (mostly Stack Overflow).\n",
    "There are two pitfalls that aren't often mentioned when dealing with animated GIFs -\n",
    "firstly that some files feature per-frame local palettes while some have one global\n",
    "palette for all frames, and secondly that some GIFs replace the entire image with\n",
    "each new frame ('full' mode in the code below), and some only update a specific\n",
    "region ('partial').\n",
    "This code deals with both those cases by examining the palette and redraw\n",
    "instructions of each frame. In the latter case this requires a preliminary (usually\n",
    "partial) iteration of the frames before processing, since the redraw mode needs to\n",
    "be consistently applied across all frames. I found a couple of examples of\n",
    "partial-mode GIFs containing the occasional full-frame redraw, which would result\n",
    "in bad renders of those frames if the mode assessment was only done on a\n",
    "single-frame basis.\n",
    "Nov 2012\n",
    "'''\n",
    "\n",
    "\n",
    "def analyseImage(path):\n",
    "    '''\n",
    "    Pre-process pass over the image to determine the mode (full or additive).\n",
    "    Necessary as assessing single frames isn't reliable. Need to know the mode \n",
    "    before processing all frames.\n",
    "    '''\n",
    "    im = Image.open(path)\n",
    "    results = {\n",
    "        'size': im.size,\n",
    "        'mode': 'full',\n",
    "    }\n",
    "    try:\n",
    "        while True:\n",
    "            if im.tile:\n",
    "                tile = im.tile[0]\n",
    "                update_region = tile[1]\n",
    "                update_region_dimensions = update_region[2:]\n",
    "                if update_region_dimensions != im.size:\n",
    "                    results['mode'] = 'partial'\n",
    "                    break\n",
    "            im.seek(im.tell() + 1)\n",
    "    except EOFError:\n",
    "        pass\n",
    "    return results\n",
    "\n",
    "\n",
    "def processImage(path):\n",
    "    '''\n",
    "    Iterate the GIF, extracting each frame.\n",
    "    '''\n",
    "    mode = analyseImage(path)['mode']\n",
    "    \n",
    "    im = Image.open(path)\n",
    "\n",
    "    i = 0\n",
    "    p = im.getpalette()\n",
    "    last_frame = im.convert('RGBA')\n",
    "    \n",
    "    try:\n",
    "        while True:\n",
    "            print (\"saving %s (%s) frame %d, %s %s\" % (path, mode, i, im.size, im.tile))\n",
    "            \n",
    "            '''\n",
    "            If the GIF uses local colour tables, each frame will have its own palette.\n",
    "            If not, we need to apply the global palette to the new frame.\n",
    "            '''\n",
    "            if not im.getpalette():\n",
    "                im.putpalette(p)\n",
    "            \n",
    "            new_frame = Image.new('RGBA', (256,256))\n",
    "            print(new_frame.size)\n",
    "            '''\n",
    "            Is this file a \"partial\"-mode GIF where frames update a region of a different size to the entire image?\n",
    "            If so, we need to construct the new frame by pasting it on top of the preceding frames.\n",
    "            '''\n",
    "            if mode == 'partial':\n",
    "                new_frame.paste(last_frame)\n",
    "            \n",
    "            new_frame.paste(im, (0,0), im.convert('RGBA'))\n",
    "            new_frame.save('%s-%d.png' % (''.join(os.path.basename(path).split('.')[:-1]), i), 'PNG')\n",
    "\n",
    "            i += 1\n",
    "            last_frame = new_frame\n",
    "            im.seek(im.tell() + 1)\n",
    "    except EOFError:\n",
    "        pass\n",
    "\n",
    "\n",
    "def main():\n",
    "    processImage(\"1.jpg\")\n",
    "    #processImage('bar.gif')\n",
    "    \n",
    "\n",
    "if __name__ == \"__main__\":\n",
    "    main()\n",
    "\n",
    "\n"
   ]
  },
  {
   "cell_type": "code",
   "execution_count": 1,
   "metadata": {},
   "outputs": [],
   "source": [
    "import cv2"
   ]
  },
  {
   "cell_type": "code",
   "execution_count": 2,
   "metadata": {},
   "outputs": [],
   "source": [
    "img=cv2.imread('binary-min-0.png')\n"
   ]
  },
  {
   "cell_type": "code",
   "execution_count": 26,
   "metadata": {},
   "outputs": [],
   "source": [
    "img2=cv2.resize(img,(256,256),interpolation = cv2.INTER_AREA)"
   ]
  },
  {
   "cell_type": "code",
   "execution_count": 27,
   "metadata": {},
   "outputs": [
    {
     "data": {
      "text/plain": [
       "True"
      ]
     },
     "execution_count": 27,
     "metadata": {},
     "output_type": "execute_result"
    }
   ],
   "source": [
    "cv2.imwrite('original.png',img2)"
   ]
  },
  {
   "cell_type": "code",
   "execution_count": 3,
   "metadata": {},
   "outputs": [
    {
     "data": {
      "text/plain": [
       "(256, 256, 3)"
      ]
     },
     "execution_count": 3,
     "metadata": {},
     "output_type": "execute_result"
    }
   ],
   "source": [
    "img.shape"
   ]
  },
  {
   "cell_type": "code",
   "execution_count": null,
   "metadata": {},
   "outputs": [],
   "source": []
  }
 ],
 "metadata": {
  "kernelspec": {
   "display_name": "Python 3",
   "language": "python",
   "name": "python3"
  },
  "language_info": {
   "codemirror_mode": {
    "name": "ipython",
    "version": 3
   },
   "file_extension": ".py",
   "mimetype": "text/x-python",
   "name": "python",
   "nbconvert_exporter": "python",
   "pygments_lexer": "ipython3",
   "version": "3.7.4"
  }
 },
 "nbformat": 4,
 "nbformat_minor": 2
}
