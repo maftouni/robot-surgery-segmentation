{
 "cells": [
  {
   "cell_type": "code",
   "execution_count": 2,
   "metadata": {},
   "outputs": [
    {
     "name": "stdout",
     "output_type": "stream",
     "text": [
      "\n",
      "CommandNotFoundError: Your shell has not been properly configured to use 'conda activate'.\n",
      "To initialize your shell, run\n",
      "\n",
      "    $ conda init <SHELL_NAME>\n",
      "\n",
      "Currently supported shells are:\n",
      "  - bash\n",
      "  - fish\n",
      "  - tcsh\n",
      "  - xonsh\n",
      "  - zsh\n",
      "  - powershell\n",
      "\n",
      "See 'conda init --help' for more information and options.\n",
      "\n",
      "IMPORTANT: You may need to close and restart your shell after running 'conda init'.\n",
      "\n",
      "\n",
      "# conda environments:\n",
      "#\n",
      "                         /home/maftouni/anaconda3\n",
      "                         /home/maftouni/anaconda3/envs/AGS\n",
      "                         /home/maftouni/anaconda3/envs/myenv\n",
      "                         /home/maftouni/anaconda3/envs/myenv-2\n",
      "base                  *  /home/smartlab/anaconda3\n",
      "3dpartseg                /home/smartlab/anaconda3/envs/3dpartseg\n",
      "dh_seg                   /home/smartlab/anaconda3/envs/dh_seg\n",
      "keras-seg                /home/smartlab/anaconda3/envs/keras-seg\n",
      "keras_v1                 /home/smartlab/anaconda3/envs/keras_v1\n",
      "pointnet2_env            /home/smartlab/anaconda3/envs/pointnet2_env\n",
      "rvos                     /home/smartlab/anaconda3/envs/rvos\n",
      "test                     /home/smartlab/anaconda3/envs/test\n",
      "unet                     /home/smartlab/anaconda3/envs/unet\n",
      "unetplus                 /home/smartlab/anaconda3/envs/unetplus\n",
      "\n"
     ]
    }
   ],
   "source": [
    "import sys\n",
    "#!{sys.executable} -m conda install albumentations!{sys.executable} -m conda install albumentations --yes\n",
    "\n",
    "#!{sys.executable} -m conda init bash\n",
    "!{sys.executable} -m conda activate myenv \n",
    "!{sys.executable} -m conda env list"
   ]
  },
  {
   "cell_type": "code",
   "execution_count": null,
   "metadata": {},
   "outputs": [],
   "source": [
    "%matplotlib inline\n",
    "from pylab import *\n",
    "import cv2"
   ]
  },
  {
   "cell_type": "code",
   "execution_count": null,
   "metadata": {},
   "outputs": [],
   "source": [
    "rcParams['figure.figsize'] = 10, 10"
   ]
  },
  {
   "cell_type": "code",
   "execution_count": null,
   "metadata": {},
   "outputs": [],
   "source": [
    "from dataset import load_image"
   ]
  },
  {
   "cell_type": "code",
   "execution_count": null,
   "metadata": {},
   "outputs": [],
   "source": [
    "import torch"
   ]
  },
  {
   "cell_type": "code",
   "execution_count": null,
   "metadata": {},
   "outputs": [],
   "source": [
    "from utils import cuda"
   ]
  },
  {
   "cell_type": "code",
   "execution_count": null,
   "metadata": {},
   "outputs": [],
   "source": [
    "from generate_masks import get_model"
   ]
  },
  {
   "cell_type": "code",
   "execution_count": null,
   "metadata": {},
   "outputs": [],
   "source": [
    "from albumentations import Compose, Normalize"
   ]
  },
  {
   "cell_type": "code",
   "execution_count": null,
   "metadata": {},
   "outputs": [],
   "source": [
    "from albumentations.pytorch.functional import img_to_tensor"
   ]
  },
  {
   "cell_type": "code",
   "execution_count": null,
   "metadata": {},
   "outputs": [],
   "source": [
    "def img_transform(p=1):\n",
    "    return Compose([\n",
    "        Normalize(p=1)\n",
    "    ], p=p)\n"
   ]
  },
  {
   "cell_type": "code",
   "execution_count": null,
   "metadata": {},
   "outputs": [],
   "source": [
    "def mask_overlay(image, mask, color=(0, 255, 0)):\n",
    "    \"\"\"\n",
    "    Helper function to visualize mask on the top of the car\n",
    "    \"\"\"\n",
    "    mask = np.dstack((mask, mask, mask)) * np.array(color)\n",
    "    mask = mask.astype(np.uint8)\n",
    "    weighted_sum = cv2.addWeighted(mask, 0.5, image, 0.5, 0.)\n",
    "    img = image.copy()\n",
    "    ind = mask[:, :, 1] > 0    \n",
    "    img[ind] = weighted_sum[ind]    \n",
    "    return img"
   ]
  },
  {
   "cell_type": "code",
   "execution_count": null,
   "metadata": {},
   "outputs": [],
   "source": [
    "#model_path = 'models/unet11_binary_20/model_0.pt'\n",
    "model_path='runs/debug/model_1.pt'\n",
    "model = get_model(model_path, model_type='UNet11', problem_type='binary')"
   ]
  },
  {
   "cell_type": "code",
   "execution_count": null,
   "metadata": {},
   "outputs": [],
   "source": [
    "img_file_name = 'data/cropped_train/instrument_dataset_1/images/00162.jpg'\n",
    "#img_file_name='images/frames/original.png'\n",
    "gt_file_name = 'data/cropped_train/instrument_dataset_1/binary_masks/00162.png'\n",
    "#gt_file_name='images/frames/mask.png'"
   ]
  },
  {
   "cell_type": "code",
   "execution_count": null,
   "metadata": {},
   "outputs": [],
   "source": [
    "image = load_image(img_file_name)\n",
    "gt = cv2.imread(gt_file_name, 0) > 0"
   ]
  },
  {
   "cell_type": "code",
   "execution_count": null,
   "metadata": {},
   "outputs": [],
   "source": [
    "imshow(image)\n",
    "print(len(image.shape))\n",
    "isinstance(image,np.ndarray)"
   ]
  },
  {
   "cell_type": "code",
   "execution_count": null,
   "metadata": {},
   "outputs": [],
   "source": [
    "with torch.no_grad():\n",
    "    input_image = torch.unsqueeze(img_to_tensor(img_transform(p=1)(image=image)['image']).cuda(), dim=0)"
   ]
  },
  {
   "cell_type": "code",
   "execution_count": null,
   "metadata": {},
   "outputs": [],
   "source": [
    "mask = model(input_image)"
   ]
  },
  {
   "cell_type": "code",
   "execution_count": null,
   "metadata": {},
   "outputs": [],
   "source": [
    "mask_array = mask.data[0].cpu().numpy()[0]\n",
    "print(mask.data[0].cpu().numpy())\n",
    "#from PIL import Image\n",
    "img = Image.fromarray(mask_array, 'RGB')\n",
    "import matplotlib.pyplot as plt\n",
    "plt.imshow(mask_array)"
   ]
  },
  {
   "cell_type": "code",
   "execution_count": null,
   "metadata": {
    "scrolled": true
   },
   "outputs": [],
   "source": [
    "imshow((mask_array > 0.2).astype(np.uint8))\n",
    "#imshow(mask_overlay(image, (mask_array > 0).astype(np.uint8)))"
   ]
  },
  {
   "cell_type": "code",
   "execution_count": null,
   "metadata": {
    "scrolled": true
   },
   "outputs": [],
   "source": [
    "imshow(mask_overlay(image, (mask_array > 90).astype(np.uint8)))"
   ]
  },
  {
   "cell_type": "code",
   "execution_count": null,
   "metadata": {},
   "outputs": [],
   "source": []
  },
  {
   "cell_type": "code",
   "execution_count": null,
   "metadata": {},
   "outputs": [],
   "source": []
  },
  {
   "cell_type": "code",
   "execution_count": null,
   "metadata": {},
   "outputs": [],
   "source": []
  }
 ],
 "metadata": {
  "kernelspec": {
   "display_name": "Python 3",
   "language": "python",
   "name": "python3"
  },
  "language_info": {
   "codemirror_mode": {
    "name": "ipython",
    "version": 3
   },
   "file_extension": ".py",
   "mimetype": "text/x-python",
   "name": "python",
   "nbconvert_exporter": "python",
   "pygments_lexer": "ipython3",
   "version": "3.7.4"
  }
 },
 "nbformat": 4,
 "nbformat_minor": 2
}
